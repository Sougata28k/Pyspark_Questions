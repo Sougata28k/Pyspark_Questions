{
 "cells": [
  {
   "cell_type": "markdown",
   "metadata": {},
   "source": [
    "#Question 1"
   ]
  },
  {
   "cell_type": "markdown",
   "metadata": {},
   "source": [
    "Find the most profitable company from the financial sector. Output the result along with the continent."
   ]
  },
  {
   "cell_type": "markdown",
   "metadata": {},
   "source": [
    "assets:\n",
    "double precision\n",
    "company:\n",
    "text\n",
    "continent:\n",
    "text\n",
    "country:\n",
    "text\n",
    "industry:\n",
    "text\n",
    "marketvalue:\n",
    "double precision\n",
    "profits:\n",
    "double precision\n",
    "rank:\n",
    "bigint\n",
    "sales:\n",
    "double precision\n",
    "sector:\n",
    "text"
   ]
  },
  {
   "cell_type": "markdown",
   "metadata": {},
   "source": [
    "company\tsector\tindustry\tcontinent\tcountry\tmarketvalue\tsales\tprofits\tassets\trank\n",
    "ICBC\tFinancials\tMajor Banks\tAsia\tChina\t215.6\t148.7\t42.7\t3124.9\t1\n",
    "Bank of China\tFinancials\tMajor Banks\tAsia\tChina\t124.2\t105.1\t25.5\t2291.8\t9\n"
   ]
  },
  {
   "cell_type": "markdown",
   "metadata": {},
   "source": [
    "Answers"
   ]
  },
  {
   "cell_type": "code",
   "execution_count": null,
   "metadata": {},
   "outputs": [],
   "source": [
    "# Import your libraries\n",
    "from pyspark.sql.functions import *\n",
    "\n",
    "# Start writing code\n",
    "df = forbes_global_2010_2014.filter(col(\"sector\")== 'Financials')\\\n",
    ".orderBy('profits', ascending= False)\\\n",
    ".limit(1)\\\n",
    ".select(\"company\", \"continent\")\n",
    "\n",
    "\n",
    "# To validate your solution, convert your final pySpark df to a pandas df\n",
    "df.toPandas()"
   ]
  }
 ],
 "metadata": {
  "language_info": {
   "name": "python"
  }
 },
 "nbformat": 4,
 "nbformat_minor": 2
}
